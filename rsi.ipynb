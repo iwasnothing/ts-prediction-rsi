{
 "cells": [
  {
   "cell_type": "code",
   "execution_count": 1,
   "id": "11b39e59",
   "metadata": {},
   "outputs": [],
   "source": [
    "import yfinance as yf"
   ]
  },
  {
   "cell_type": "code",
   "execution_count": 2,
   "id": "ee5dde22",
   "metadata": {},
   "outputs": [],
   "source": [
    "def getStock(tic,period):\n",
    "    ticker = yf.Ticker(tic)\n",
    "    df = ticker.history(period=period)\n",
    "    return df.values[:,:4],df.index"
   ]
  },
  {
   "cell_type": "code",
   "execution_count": 3,
   "id": "8b22f0cb",
   "metadata": {},
   "outputs": [],
   "source": [
    "stock = 'AMZN'\n",
    "data,ts = getStock(stock,'1y')"
   ]
  },
  {
   "cell_type": "code",
   "execution_count": 4,
   "id": "8c0ce31b",
   "metadata": {},
   "outputs": [
    {
     "name": "stdout",
     "output_type": "stream",
     "text": [
      "253\n"
     ]
    }
   ],
   "source": [
    "print(len(data))"
   ]
  },
  {
   "cell_type": "code",
   "execution_count": 5,
   "id": "d8032d06",
   "metadata": {},
   "outputs": [],
   "source": [
    "from All_Functions_Master_File import rsi,adder"
   ]
  },
  {
   "cell_type": "code",
   "execution_count": 6,
   "id": "a5c8d906",
   "metadata": {},
   "outputs": [
    {
     "name": "stderr",
     "output_type": "stream",
     "text": [
      "/Users/kahingleung/PycharmProjects/timeseries/All_Functions_Master_File.py:168: RuntimeWarning: Mean of empty slice.\n",
      "  Data[i, where] = (Data[i - lookback + 1:i + 1, close].mean())\n",
      "/Users/kahingleung/PycharmProjects/timeseries/venv/lib/python3.8/site-packages/numpy/core/_methods.py:189: RuntimeWarning: invalid value encountered in double_scalars\n",
      "  ret = ret.dtype.type(ret / rcount)\n"
     ]
    }
   ],
   "source": [
    "my_data = rsi(data,14,3,4)"
   ]
  },
  {
   "cell_type": "code",
   "execution_count": 7,
   "id": "29ccce6f",
   "metadata": {},
   "outputs": [
    {
     "data": {
      "text/plain": [
       "65.69062633371902"
      ]
     },
     "execution_count": 7,
     "metadata": {},
     "output_type": "execute_result"
    }
   ],
   "source": [
    "my_data[-1,4]"
   ]
  },
  {
   "cell_type": "code",
   "execution_count": 8,
   "id": "2d7f9f12",
   "metadata": {},
   "outputs": [
    {
     "name": "stdout",
     "output_type": "stream",
     "text": [
      "172\n",
      "172\n"
     ]
    }
   ],
   "source": [
    "n=len(my_data)\n",
    "print(n)\n",
    "print(len(ts[-n:]))"
   ]
  },
  {
   "cell_type": "code",
   "execution_count": 9,
   "id": "73098bcc",
   "metadata": {},
   "outputs": [],
   "source": [
    "from darts import TimeSeries\n",
    "import numpy as np\n",
    "#series = TimeSeries.from_times_and_values(ts[-n:],my_data[:,4],fill_missing_dates=True, freq='D')\n",
    "series = TimeSeries.from_values(np.float32(my_data[:,4]))\n"
   ]
  },
  {
   "cell_type": "code",
   "execution_count": 10,
   "id": "21a9a27f",
   "metadata": {},
   "outputs": [],
   "source": [
    "train, val = series[:100], series[100:]"
   ]
  },
  {
   "cell_type": "code",
   "execution_count": 11,
   "id": "14ff1811",
   "metadata": {},
   "outputs": [],
   "source": [
    "from darts.models import NBEATSModel\n",
    "model = NBEATSModel(input_chunk_length=14, output_chunk_length=5)\n",
    "\n"
   ]
  },
  {
   "cell_type": "code",
   "execution_count": 12,
   "id": "36aa9d96",
   "metadata": {},
   "outputs": [
    {
     "name": "stderr",
     "output_type": "stream",
     "text": [
      "[2021-11-11 01:03:24,936] INFO | darts.models.forecasting.torch_forecasting_model | Train dataset contains 82 samples.\n",
      "[2021-11-11 01:03:24,936] INFO | darts.models.forecasting.torch_forecasting_model | Train dataset contains 82 samples.\n",
      "[2021-11-11 01:03:24,998] INFO | darts.models.forecasting.torch_forecasting_model | Time series values are 32-bits; casting model to float32.\n",
      "[2021-11-11 01:03:24,998] INFO | darts.models.forecasting.torch_forecasting_model | Time series values are 32-bits; casting model to float32.\n"
     ]
    }
   ],
   "source": [
    "model.fit(train)"
   ]
  },
  {
   "cell_type": "code",
   "execution_count": 13,
   "id": "055a0256",
   "metadata": {},
   "outputs": [],
   "source": [
    "pred = model.predict(n=len(val),series=train)\n",
    "#pred = model.predict(n=len(val))"
   ]
  },
  {
   "cell_type": "code",
   "execution_count": 14,
   "id": "d5848bbc",
   "metadata": {},
   "outputs": [
    {
     "data": {
      "text/plain": [
       "<matplotlib.legend.Legend at 0x7fc298e903a0>"
      ]
     },
     "execution_count": 14,
     "metadata": {},
     "output_type": "execute_result"
    },
    {
     "data": {
      "image/png": "[encoded data removed]",
      "text/plain": [
       "<Figure size 432x288 with 1 Axes>"
      ]
     },
     "metadata": {
      "needs_background": "light"
     },
     "output_type": "display_data"
    }
   ],
   "source": [
    "import matplotlib.pyplot as plt\n",
    "\n",
    "series.plot()\n",
    "pred.plot(label='forecast', low_quantile=0.05, high_quantile=0.95)\n",
    "plt.legend()"
   ]
  },
  {
   "cell_type": "code",
   "execution_count": 15,
   "id": "5185e2c2",
   "metadata": {},
   "outputs": [
    {
     "name": "stdout",
     "output_type": "stream",
     "text": [
      "5.77327\n"
     ]
    }
   ],
   "source": [
    "from darts.metrics import mase\n",
    "err = mase(series,pred,train)\n",
    "print(err)"
   ]
  },
  {
   "cell_type": "code",
   "execution_count": 16,
   "id": "98bcb5bb",
   "metadata": {},
   "outputs": [],
   "source": [
    "def OnePrediction(hist,model,future):\n",
    "    hist_series = TimeSeries.from_values(np.float32(hist))\n",
    "    pred = model.predict(n=future,series=hist_series)\n",
    "    return pred.mean()[0]\n",
    "    \n",
    "    "
   ]
  },
  {
   "cell_type": "code",
   "execution_count": 17,
   "id": "6956d43a",
   "metadata": {},
   "outputs": [],
   "source": [
    "my_data = adder(my_data,20)"
   ]
  },
  {
   "cell_type": "code",
   "execution_count": 18,
   "id": "8842b42f",
   "metadata": {},
   "outputs": [],
   "source": [
    "def simple_rsi_signal(Data, rsi_col,threshold, buy, sell):\n",
    "    high = 100 - threshold\n",
    "    low = threshold\n",
    "    Data[:,buy] = 0\n",
    "    Data[:,sell] = 0\n",
    "    for i in range(len(Data)):\n",
    "        \n",
    "        if Data[i, rsi_col] < low and i > 14:\n",
    "            \n",
    "            Data[i, buy] = 1\n",
    "            \n",
    "        elif Data[i, rsi_col] > high:\n",
    "            \n",
    "            Data[i, sell] = -1    \n",
    "    return Data"
   ]
  },
  {
   "cell_type": "code",
   "execution_count": 19,
   "id": "15513112",
   "metadata": {},
   "outputs": [],
   "source": [
    "my_data[:,5:10] = 0\n",
    "my_data = simple_rsi_signal(my_data,4,30,5,6)"
   ]
  },
  {
   "cell_type": "code",
   "execution_count": 20,
   "id": "1a799010",
   "metadata": {},
   "outputs": [
    {
     "name": "stdout",
     "output_type": "stream",
     "text": [
      "[0. 0. 0. 0. 0. 0. 0. 0. 0. 0. 0. 0. 0. 0. 0. 0. 0. 0. 0. 0. 0. 0. 0. 0.\n",
      " 0. 0. 0. 0. 0. 0. 0. 0. 0. 0. 0. 0. 0. 0. 0. 0. 0. 0. 0. 0. 0. 0. 0. 0.\n",
      " 0. 0. 0. 0. 0. 0. 0. 0. 0. 0. 0. 0. 0. 0. 0. 0. 0. 0. 0. 0. 0. 0. 0. 0.\n",
      " 0. 0. 0. 0. 0. 0. 0. 0. 0. 0. 0. 0. 0. 0. 0. 0. 0. 0. 0. 0. 0. 0. 0. 0.\n",
      " 0. 0. 0. 0. 0. 0. 0. 0. 0. 0. 0. 0. 0. 0. 0. 0. 1. 1. 1. 0. 0. 0. 0. 0.\n",
      " 0. 0. 0. 0. 0. 0. 0. 0. 0. 0. 0. 0. 0. 0. 0. 0. 0. 0. 0. 0. 0. 0. 0. 0.\n",
      " 1. 0. 0. 0. 0. 0. 0. 0. 0. 0. 0. 0. 0. 0. 0. 0. 0. 0. 0. 0. 0. 0. 0. 0.\n",
      " 0. 0. 0. 0.]\n"
     ]
    }
   ],
   "source": [
    "print(my_data[:,5])"
   ]
  },
  {
   "cell_type": "code",
   "execution_count": 21,
   "id": "fa9da683",
   "metadata": {},
   "outputs": [],
   "source": [
    "import Primal_Functions_Performance_Evaluation "
   ]
  },
  {
   "cell_type": "code",
   "execution_count": 22,
   "id": "aeac0289",
   "metadata": {},
   "outputs": [],
   "source": [
    "import importlib\n",
    "importlib.reload(Primal_Functions_Performance_Evaluation)\n",
    "\n",
    "\n",
    "expected_cost = 0.01\n",
    "lot = 1\n",
    "investment = 100\n",
    "my_data_ret = Primal_Functions_Performance_Evaluation.holding(my_data, 5, 6, 7, 8)\n"
   ]
  },
  {
   "cell_type": "code",
   "execution_count": 23,
   "id": "482822a3",
   "metadata": {},
   "outputs": [
    {
     "name": "stdout",
     "output_type": "stream",
     "text": [
      "-----------Performance----------- AMZN\n",
      "Hit ratio       =  38.46 %\n",
      "Net profit      =  $ 166.6\n",
      "Expectancy      =  $ 12.81 per trade\n",
      "Profit factor   =  1.44\n",
      "Total Return    =  166.6 %\n",
      "\n",
      "Average Gain    =  $ 108.94 per trade\n",
      "Average Loss    =  $ -47.26 per trade\n",
      "Largest Gain    =  $ 517.32\n",
      "Largest Loss    =  $ -170.31\n",
      "\n",
      "Realized RR     =  2.31\n",
      "Minimum         = $ -252.09\n",
      "Maximum         = $ 278.07\n",
      "Trades          = 13\n"
     ]
    },
    {
     "data": {
      "text/plain": [
       "166.6"
      ]
     },
     "execution_count": 23,
     "metadata": {},
     "output_type": "execute_result"
    }
   ],
   "source": [
    "my_data_eq = Primal_Functions_Performance_Evaluation.equity_curve(my_data_ret, 7, expected_cost, lot, investment)\n",
    "Primal_Functions_Performance_Evaluation.performance(my_data_eq, 7, my_data, stock,expected_cost, lot, investment)"
   ]
  },
  {
   "cell_type": "code",
   "execution_count": 24,
   "id": "9965671e",
   "metadata": {},
   "outputs": [
    {
     "data": {
      "text/plain": [
       "[<matplotlib.lines.Line2D at 0x7fc2a0108910>]"
      ]
     },
     "execution_count": 24,
     "metadata": {},
     "output_type": "execute_result"
    },
    {
     "data": {
      "image/png": "[encoded data removed]",
      "text/plain": [
       "<Figure size 432x288 with 1 Axes>"
      ]
     },
     "metadata": {
      "needs_background": "light"
     },
     "output_type": "display_data"
    }
   ],
   "source": [
    "plt.plot(my_data_eq[:, 3], linewidth = 1, label = stock)"
   ]
  },
  {
   "cell_type": "code",
   "execution_count": 25,
   "id": "d4889b7d",
   "metadata": {},
   "outputs": [],
   "source": [
    "def predicted_rsi_signal(Data, rsi_col,threshold,input_chunk_length, buy, sell):\n",
    "    high = 100 - threshold\n",
    "    low = threshold\n",
    "    Data[:,buy] = 0\n",
    "    Data[:,sell] = 0\n",
    "    for i in range(len(Data)):\n",
    "        if Data[i, rsi_col] < low and i > input_chunk_length:\n",
    "            u = OnePrediction(Data[i-input_chunk_length:i+1, rsi_col] , model, 5)\n",
    "            if u > Data[i, rsi_col]*1.1 :\n",
    "                Data[i, buy] = 1\n",
    "            \n",
    "        elif Data[i, rsi_col] > 70 and i > input_chunk_length:\n",
    "            u = OnePrediction(Data[i-input_chunk_length:i+1, rsi_col] , model, 5)\n",
    "            if u < Data[i, rsi_col]:\n",
    "                Data[i, sell] = -1    \n",
    "    return Data"
   ]
  },
  {
   "cell_type": "code",
   "execution_count": 26,
   "id": "ee43b437",
   "metadata": {},
   "outputs": [],
   "source": [
    "my_data[:,9:13] = 0\n",
    "my_data = predicted_rsi_signal(my_data,4,40,14,9,10)"
   ]
  },
  {
   "cell_type": "code",
   "execution_count": 27,
   "id": "ba3038b0",
   "metadata": {},
   "outputs": [
    {
     "name": "stdout",
     "output_type": "stream",
     "text": [
      "[0. 0. 0. 0. 0. 0. 0. 0. 0. 0. 0. 0. 0. 0. 0. 0. 0. 0. 0. 0. 0. 0. 0. 0.\n",
      " 0. 0. 0. 0. 0. 0. 0. 0. 0. 0. 0. 0. 0. 0. 0. 0. 0. 0. 0. 0. 1. 1. 0. 0.\n",
      " 0. 0. 0. 0. 0. 0. 0. 0. 0. 0. 0. 0. 0. 0. 0. 0. 0. 0. 0. 0. 0. 0. 0. 0.\n",
      " 0. 0. 0. 0. 0. 0. 0. 0. 0. 0. 0. 0. 0. 0. 0. 0. 0. 0. 0. 0. 0. 0. 0. 0.\n",
      " 0. 0. 0. 1. 1. 0. 0. 0. 0. 1. 1. 1. 1. 1. 0. 0. 1. 1. 0. 0. 0. 0. 0. 0.\n",
      " 0. 0. 0. 0. 0. 0. 0. 0. 0. 0. 0. 0. 0. 0. 0. 0. 0. 0. 0. 0. 0. 1. 1. 1.\n",
      " 1. 0. 0. 0. 0. 0. 0. 0. 0. 0. 0. 0. 0. 0. 0. 0. 0. 0. 0. 0. 0. 0. 0. 0.\n",
      " 0. 0. 0. 0.]\n"
     ]
    }
   ],
   "source": [
    "print(my_data[:,9])"
   ]
  },
  {
   "cell_type": "code",
   "execution_count": 28,
   "id": "bcc33d0a",
   "metadata": {},
   "outputs": [],
   "source": [
    "my_data_ret = Primal_Functions_Performance_Evaluation.holding(my_data, 9, 10, 11, 12)"
   ]
  },
  {
   "cell_type": "code",
   "execution_count": 29,
   "id": "88ae0587",
   "metadata": {},
   "outputs": [
    {
     "name": "stdout",
     "output_type": "stream",
     "text": [
      "-----------Performance----------- AMZN\n",
      "Hit ratio       =  45.83 %\n",
      "Net profit      =  $ 588.35\n",
      "Expectancy      =  $ 24.51 per trade\n",
      "Profit factor   =  2.09\n",
      "Total Return    =  588.35 %\n",
      "\n",
      "Average Gain    =  $ 102.77 per trade\n",
      "Average Loss    =  $ -41.7 per trade\n",
      "Largest Gain    =  $ 390.95\n",
      "Largest Loss    =  $ -170.31\n",
      "\n",
      "Realized RR     =  2.46\n",
      "Minimum         = $ 79.38\n",
      "Maximum         = $ 840.54\n",
      "Trades          = 24\n"
     ]
    },
    {
     "data": {
      "text/plain": [
       "588.35"
      ]
     },
     "execution_count": 29,
     "metadata": {},
     "output_type": "execute_result"
    }
   ],
   "source": [
    "my_data_eq = Primal_Functions_Performance_Evaluation.equity_curve(my_data_ret, 11, expected_cost, lot, investment)\n",
    "Primal_Functions_Performance_Evaluation.performance(my_data_eq, 11, my_data, stock,expected_cost, lot, investment)"
   ]
  },
  {
   "cell_type": "code",
   "execution_count": 30,
   "id": "fd5a5cfc",
   "metadata": {},
   "outputs": [
    {
     "name": "stderr",
     "output_type": "stream",
     "text": [
      "No handles with labels found to put in legend.\n",
      "No handles with labels found to put in legend.\n"
     ]
    },
    {
     "data": {
      "text/plain": [
       "<matplotlib.lines.Line2D at 0x7fc2a12cd5b0>"
      ]
     },
     "execution_count": 30,
     "metadata": {},
     "output_type": "execute_result"
    },
    {
     "data": {
      "image/png": "[encoded data removed]",
      "text/plain": [
       "<Figure size 720x360 with 1 Axes>"
      ]
     },
     "metadata": {
      "needs_background": "light"
     },
     "output_type": "display_data"
    },
    {
     "data": {
      "image/png": "[encoded data removed]",
      "text/plain": [
       "<Figure size 720x360 with 2 Axes>"
      ]
     },
     "metadata": {
      "needs_background": "light"
     },
     "output_type": "display_data"
    }
   ],
   "source": [
    "import Primal_Functions_Signal_Chart\n",
    "import Primal_Functions_Double_Panel_Plotting\n",
    "upper_barrier    = 75\n",
    "lower_barrier    = 25\n",
    "Primal_Functions_Signal_Chart.signal_chart_ohlc_color(my_data, stock, 3, 6, 7, window = 500)\n",
    "Primal_Functions_Double_Panel_Plotting.indicator_plot_double(my_data, 0, 1, 2, 3, 4, window = 250)\n",
    "plt.axhline(y = upper_barrier, color = 'black', linewidth = 1, linestyle = '--')\n",
    "plt.axhline(y = lower_barrier, color = 'black', linewidth = 1, linestyle = '--')    \n",
    "\n",
    "plt.plot(my_data_eq[:, 3], linewidth = 1, label = stock)\n",
    "plt.grid()\n",
    "plt.legend()\n",
    "plt.axhline(y = investment, color = 'black', linewidth = 1)"
   ]
  },
  {
   "cell_type": "code",
   "execution_count": 31,
   "id": "5ccb386f",
   "metadata": {},
   "outputs": [
    {
     "data": {
      "text/plain": [
       "[<matplotlib.lines.Line2D at 0x7fc2a151f4c0>]"
      ]
     },
     "execution_count": 31,
     "metadata": {},
     "output_type": "execute_result"
    },
    {
     "data": {
      "image/png": "[encoded data removed]",
      "text/plain": [
       "<Figure size 432x288 with 1 Axes>"
      ]
     },
     "metadata": {
      "needs_background": "light"
     },
     "output_type": "display_data"
    }
   ],
   "source": [
    "plt.plot(my_data_eq[:, 3], linewidth = 1, label = stock)"
   ]
  },
  {
   "cell_type": "code",
   "execution_count": 32,
   "id": "1f8d7e2a",
   "metadata": {},
   "outputs": [],
   "source": [
    "import pandas as pd\n",
    "df = pd.read_csv('backtest_rsi_signals.csv')"
   ]
  },
  {
   "cell_type": "code",
   "execution_count": 33,
   "id": "38842eff",
   "metadata": {},
   "outputs": [],
   "source": [
    "df['performance'] = df[['baseline','ML']].apply(lambda x: x[1] - x[0], axis=1)"
   ]
  },
  {
   "cell_type": "code",
   "execution_count": 34,
   "id": "0470e727",
   "metadata": {},
   "outputs": [],
   "source": [
    "list = df.loc[(df.performance>0),'asset' ].values"
   ]
  },
  {
   "cell_type": "code",
   "execution_count": 35,
   "id": "5f370110",
   "metadata": {},
   "outputs": [
    {
     "name": "stdout",
     "output_type": "stream",
     "text": [
      "67\n"
     ]
    }
   ],
   "source": [
    "print(len(list))"
   ]
  },
  {
   "cell_type": "code",
   "execution_count": 36,
   "id": "82e8dff5",
   "metadata": {},
   "outputs": [],
   "source": [
    "list = df.loc[(df.ML>0),'asset' ].values"
   ]
  },
  {
   "cell_type": "code",
   "execution_count": 37,
   "id": "73adc384",
   "metadata": {},
   "outputs": [
    {
     "name": "stdout",
     "output_type": "stream",
     "text": [
      "57\n"
     ]
    }
   ],
   "source": [
    "print(len(list))"
   ]
  },
  {
   "cell_type": "code",
   "execution_count": null,
   "id": "a2882e37",
   "metadata": {},
   "outputs": [],
   "source": []
  }
 ],
 "metadata": {
  "kernelspec": {
   "display_name": "Python 3 (ipykernel)",
   "language": "python",
   "name": "python3"
  },
  "language_info": {
   "codemirror_mode": {
    "name": "ipython",
    "version": 3
   },
   "file_extension": ".py",
   "mimetype": "text/x-python",
   "name": "python",
   "nbconvert_exporter": "python",
   "pygments_lexer": "ipython3",
   "version": "3.8.0"
  }
 },
 "nbformat": 4,
 "nbformat_minor": 5
}
