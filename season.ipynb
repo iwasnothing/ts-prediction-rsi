{
 "cells": [
  {
   "cell_type": "code",
   "execution_count": 1,
   "id": "e8b2f8c9",
   "metadata": {},
   "outputs": [],
   "source": [
    "import yfinance as yf\n",
    "from binance import Client"
   ]
  },
  {
   "cell_type": "code",
   "execution_count": null,
   "id": "059e3ba2",
   "metadata": {},
   "outputs": [],
   "source": [
    "def getStock(tic,start_period):\n",
    "    ticker = yf.Ticker(tic)\n",
    "    df = ticker.history(start=start_period)\n",
    "    return df.values[:,:4],df.index"
   ]
  },
  {
   "cell_type": "code",
   "execution_count": null,
   "id": "4df17c87",
   "metadata": {},
   "outputs": [],
   "source": [
    "def getMonthly(tic,period):\n",
    "    ticker = yf.Ticker(tic)\n",
    "    df = ticker.history(period=period)\n",
    "    df['month'] = [d.month for d in df.index]\n",
    "    df = df.groupby(['month']).mean()\n",
    "    return df.values[:,:4],df.index"
   ]
  },
  {
   "cell_type": "code",
   "execution_count": null,
   "id": "7612db01",
   "metadata": {},
   "outputs": [],
   "source": [
    "def getBTC(tic,start_period):\n",
    "    #api_key = os.environ['API_KEY']\n",
    "    #api_secret = os.environ['API_SECRET']\n",
    "    client = Client()\n",
    "    klines = client.get_historical_klines(tic, Client.KLINE_INTERVAL_1DAY, start_period, limit=1000)\n",
    "    df = pd.DataFrame(klines, columns=['OpenTime', 'Open', 'High', 'Low', 'Close', 'Volume', 'CloseTime', 'QuoteVolume',\n",
    "                                       'NumTrades', 'BuyBaseVolume', 'BuyQuoteVolume', 'Other']\n",
    "                      ,dtype=np.float32)\n",
    "    df['DateTime'] = df['OpenTime'].apply(lambda x: datetime.fromtimestamp(x / 1000))\n",
    "    df = df.set_index('DateTime')\n",
    "    return df.values[:, 1:5], df.index\n"
   ]
  },
  {
   "cell_type": "code",
   "execution_count": 11,
   "id": "c16cca68",
   "metadata": {},
   "outputs": [
    {
     "name": "stdout",
     "output_type": "stream",
     "text": [
      "42778.14 0.001\n"
     ]
    }
   ],
   "source": [
    "import pandas as pd\n",
    "tic=\"BTCUSDT\"\n",
    "balance_usdt = client.get_asset_balance(asset='USDT')\n",
    "df = pd.DataFrame(client.get_ticker())\n",
    "price = float(df[df.symbol == tic]['lastPrice'].values[0])\n",
    "fee = client.get_trade_fee(symbol=tic)\n",
    "print(str(price),fee[0]['makerCommission'])"
   ]
  },
  {
   "cell_type": "code",
   "execution_count": 17,
   "id": "4c2769e2",
   "metadata": {},
   "outputs": [
    {
     "name": "stdout",
     "output_type": "stream",
     "text": [
      "exec buy order at :  42778.14 0.00234 0.001 99.89999999999999\n",
      "{'symbol': 'BTCUSDT', 'orderId': 8881931245, 'orderListId': -1, 'clientOrderId': '4u2tTTXElLlk0aq5CFRubj', 'transactTime': 1641468835873, 'price': '42778.14000000', 'origQty': '0.00234000', 'executedQty': '0.00000000', 'cummulativeQuoteQty': '0.00000000', 'status': 'NEW', 'timeInForce': 'GTC', 'type': 'LIMIT', 'side': 'BUY', 'fills': []}\n"
     ]
    }
   ],
   "source": [
    "from binance.enums import *\n",
    "from decimal import *\n",
    "fee_pct = float(fee[0]['makerCommission'])\n",
    "qty = 100.0 * (1 - fee_pct) / price\n",
    "print(\"exec buy order at : \", price, round(qty,5), fee_pct, price * qty)\n",
    "order = client.create_order(\n",
    "            symbol=tic,\n",
    "            side=SIDE_BUY,\n",
    "            type=ORDER_TYPE_LIMIT,\n",
    "            timeInForce=TIME_IN_FORCE_GTC,\n",
    "            quantity=round(qty,5),\n",
    "            price=str(price) )\n",
    "print(order)"
   ]
  },
  {
   "cell_type": "code",
   "execution_count": null,
   "id": "36e33148",
   "metadata": {},
   "outputs": [],
   "source": [
    "stock = 'BTC-USD'\n",
    "data,ts = getStock(stock,'2017-12-01')"
   ]
  },
  {
   "cell_type": "code",
   "execution_count": null,
   "id": "f3ea4ca8",
   "metadata": {},
   "outputs": [],
   "source": []
  },
  {
   "cell_type": "code",
   "execution_count": null,
   "id": "1db7f017",
   "metadata": {},
   "outputs": [],
   "source": [
    "stock = 'BTCUSDT'\n",
    "data,ts = getBTC(stock,'2017-12-01')"
   ]
  },
  {
   "cell_type": "code",
   "execution_count": null,
   "id": "7eed6a86",
   "metadata": {},
   "outputs": [],
   "source": [
    "from decimal import *\n",
    "df = pd.DataFrame(client.get_ticker())\n",
    "price = float(df[df.symbol == 'BTCUSDT']['lastPrice'].values[0])\n",
    "Decimal(100/price)"
   ]
  },
  {
   "cell_type": "code",
   "execution_count": null,
   "id": "420c60ad",
   "metadata": {},
   "outputs": [],
   "source": [
    "from All_Functions_Master_File import rsi,adder,ma"
   ]
  },
  {
   "cell_type": "code",
   "execution_count": null,
   "id": "c0b6f786",
   "metadata": {},
   "outputs": [],
   "source": [
    "my_data = adder(data,5)\n",
    "my_data = rsi(my_data,14,3,4)\n",
    "my_data = ma(my_data,20,4,5)\n"
   ]
  },
  {
   "cell_type": "code",
   "execution_count": null,
   "id": "0f056fb1",
   "metadata": {},
   "outputs": [],
   "source": [
    "my_data[1:10,:]"
   ]
  },
  {
   "cell_type": "code",
   "execution_count": null,
   "id": "524fc68f",
   "metadata": {},
   "outputs": [],
   "source": [
    "from datetime import datetime\n",
    "ts = ts[-1*len(my_data):]\n",
    "mth = [d.month for d in ts]\n",
    "yr = [d.year for d in ts]\n",
    "wd = [d.weekday() for d in ts]\n",
    "wk = [d.isocalendar()[1] for d in ts]\n",
    "day = [d.day for d in ts]"
   ]
  },
  {
   "cell_type": "code",
   "execution_count": null,
   "id": "b03e4e6a",
   "metadata": {},
   "outputs": [],
   "source": [
    "import pandas as pd\n",
    "df = pd.DataFrame({'Y': my_data[:,5], 'month': mth, 'year': yr, 'weekday': wd, 'weeknum': wk, 'day': day})\n",
    "dfm = df.groupby(['month']).mean().reset_index()\n",
    "dfwd = df.groupby(['weekday']).mean().reset_index()\n",
    "dfwk = df.groupby(['weeknum']).mean().reset_index()\n",
    "dfymd = df[['Y','year','month']].groupby(['year','month']).mean().reset_index()"
   ]
  },
  {
   "cell_type": "code",
   "execution_count": null,
   "id": "33f17842",
   "metadata": {},
   "outputs": [],
   "source": [
    "dfymd.merge(dfm[['Y','month']],  on='month',suffixes=['_true','_pred']).sort_values(by=['year','month']).reset_index()"
   ]
  },
  {
   "cell_type": "code",
   "execution_count": null,
   "id": "683bdc48",
   "metadata": {},
   "outputs": [],
   "source": [
    "df_pred = dfymd.merge(dfm[['Y','month']],  on='month',suffixes=['_true','_pred']).sort_values(by=['year','month']).reset_index()\n",
    "Y_true = df_pred['Y_true'].values\n",
    "Y_pred = df_pred['Y_pred'].values\n",
    "Y18 = df_pred[df_pred.year == 2018]['Y_pred']\n",
    "Y19 = df_pred[df_pred.year == 2019]['Y_pred']\n",
    "Y20 = df_pred[df_pred.year == 2020]['Y_pred']\n",
    "Y21 = df_pred[df_pred.year == 2021]['Y_pred']"
   ]
  },
  {
   "cell_type": "code",
   "execution_count": null,
   "id": "06ae1b47",
   "metadata": {},
   "outputs": [],
   "source": [
    "import matplotlib.pyplot as plt\n",
    "# plot the co2 data\n",
    "fig = plt.figure()\n",
    "df1 = df_pred[df_pred.year == 2020].reset_index()\n",
    "df2 = df_pred[df_pred.year == 2021].reset_index()\n",
    "plt.plot(df1.index,df1['Y_true'], label=\"2020\")\n",
    "plt.plot(df2.index,df2['Y_true'], label=\"2021\")\n",
    "plt.ylabel('RSI')\n",
    "plt.xlabel('time')\n",
    "plt.legend()"
   ]
  },
  {
   "cell_type": "code",
   "execution_count": null,
   "id": "8870e927",
   "metadata": {},
   "outputs": [],
   "source": [
    "from sklearn import metrics\n",
    "print(metrics.mean_absolute_error(Y_true,Y_pred))"
   ]
  },
  {
   "cell_type": "code",
   "execution_count": null,
   "id": "31655fcf",
   "metadata": {},
   "outputs": [],
   "source": [
    "import matplotlib.pyplot as plt\n",
    "# plot the co2 data\n",
    "fig = plt.figure()\n",
    "#plt.plot(df19.index,df19.values)\n",
    "plt.plot(df_pred.index,Y_true, label=\"actual value\")\n",
    "plt.plot(df_pred.index,Y_pred)\n",
    "plt.plot(Y18.index,Y18.values, label=\"2018 Prediction\")\n",
    "plt.plot(Y19.index,Y19.values, label=\"2019 Prediction\")\n",
    "plt.plot(Y20.index,Y20.values, label=\"2020 Prediction\")\n",
    "plt.plot(Y21.index,Y21.values, label=\"2021 Prediction\")\n",
    "plt.ylabel('RSI')\n",
    "plt.xlabel('time')\n",
    "plt.ylim(10, 80)\n",
    "plt.legend()"
   ]
  },
  {
   "cell_type": "code",
   "execution_count": null,
   "id": "343fb7a4",
   "metadata": {},
   "outputs": [],
   "source": [
    "import numpy as np\n",
    "\n",
    "y = Y_true #my_data[:,5]\n",
    "x = list(range(len(y)))\n",
    "\n",
    "# apply fast fourier transform and take absolute values\n",
    "f=abs(np.fft.fft(y))\n",
    "\n",
    "# get the list of frequencies\n",
    "num=np.size(x)\n",
    "freq = [i / num for i in list(range(num))]\n",
    "\n",
    "# get the list of spectrums\n",
    "spectrum=f.real*f.real+f.imag*f.imag\n",
    "nspectrum=spectrum/spectrum[0]\n",
    "\n",
    "# plot nspectrum per frequency, with a semilog scale on nspectrum\n",
    "plt.semilogy(freq,nspectrum)"
   ]
  },
  {
   "cell_type": "code",
   "execution_count": null,
   "id": "ae36feda",
   "metadata": {},
   "outputs": [],
   "source": [
    "len(df[df.year == 2020])"
   ]
  },
  {
   "cell_type": "code",
   "execution_count": null,
   "id": "ba9332f8",
   "metadata": {},
   "outputs": [],
   "source": [
    "import statsmodels.api as sm\n",
    "res = sm.tsa.seasonal_decompose(Y_true,period=6)\n",
    "resplot = res.plot()\n"
   ]
  },
  {
   "cell_type": "code",
   "execution_count": null,
   "id": "5213e985",
   "metadata": {},
   "outputs": [],
   "source": [
    "r = res.resid\n",
    "r = r[~np.isnan(r)]"
   ]
  },
  {
   "cell_type": "code",
   "execution_count": null,
   "id": "8bf66117",
   "metadata": {},
   "outputs": [],
   "source": [
    "from statsmodels.tsa.stattools import adfuller"
   ]
  },
  {
   "cell_type": "code",
   "execution_count": null,
   "id": "6b118146",
   "metadata": {},
   "outputs": [],
   "source": [
    "result = adfuller(r)\n",
    "print('ADF Statistic: %f' % result[0])\n",
    "print('p-value: %f' % result[1])\n",
    "print('Critical Values:')\n",
    "for key, value in result[4].items():\n",
    "    print('\\t%s: %.3f' % (key, value))"
   ]
  },
  {
   "cell_type": "code",
   "execution_count": null,
   "id": "56d575d3",
   "metadata": {},
   "outputs": [],
   "source": [
    "result[1]"
   ]
  },
  {
   "cell_type": "code",
   "execution_count": null,
   "id": "8da375e9",
   "metadata": {},
   "outputs": [],
   "source": [
    "import statsmodels.api as sm\n",
    "y = my_data[:,5]\n",
    "res = sm.tsa.seasonal_decompose(y,period=180)\n",
    "resplot = res.plot()"
   ]
  },
  {
   "cell_type": "code",
   "execution_count": null,
   "id": "c8c5e6c7",
   "metadata": {},
   "outputs": [],
   "source": [
    "r = res.resid\n",
    "r = r[~np.isnan(r)]"
   ]
  },
  {
   "cell_type": "code",
   "execution_count": null,
   "id": "e7d52321",
   "metadata": {},
   "outputs": [],
   "source": [
    "from statsmodels.tsa.stattools import adfuller"
   ]
  },
  {
   "cell_type": "code",
   "execution_count": null,
   "id": "c5a2a674",
   "metadata": {},
   "outputs": [],
   "source": [
    "result = adfuller(r)\n",
    "print('ADF Statistic: %f' % result[0])\n",
    "print('p-value: %f' % result[1])\n",
    "print('Critical Values:')\n",
    "for key, value in result[4].items():\n",
    "    print('\\t%s: %.3f' % (key, value))"
   ]
  },
  {
   "cell_type": "code",
   "execution_count": null,
   "id": "b0182e66",
   "metadata": {},
   "outputs": [],
   "source": [
    "result[1]"
   ]
  },
  {
   "cell_type": "code",
   "execution_count": null,
   "id": "d43b5872",
   "metadata": {},
   "outputs": [],
   "source": [
    "plt.hist(r, bins = 50)"
   ]
  },
  {
   "cell_type": "code",
   "execution_count": null,
   "id": "e404cddd",
   "metadata": {},
   "outputs": [],
   "source": [
    "from prophet import Prophet"
   ]
  },
  {
   "cell_type": "code",
   "execution_count": null,
   "id": "b5bba937",
   "metadata": {},
   "outputs": [],
   "source": [
    "df"
   ]
  },
  {
   "cell_type": "code",
   "execution_count": null,
   "id": "f85ad17b",
   "metadata": {},
   "outputs": [],
   "source": [
    "df['ds'] = df.apply(lambda x: datetime(int(x['year']),int(x['month']),int(x['day'])),axis = 1)\n",
    "df['y'] = df['Y']"
   ]
  },
  {
   "cell_type": "code",
   "execution_count": null,
   "id": "d944c974",
   "metadata": {},
   "outputs": [],
   "source": [
    "df"
   ]
  },
  {
   "cell_type": "code",
   "execution_count": null,
   "id": "1789cc40",
   "metadata": {},
   "outputs": [],
   "source": [
    "dfph = df[['ds','y']]\n",
    "m = Prophet(yearly_seasonality=True)\n",
    "m.add_seasonality(name='half_year', period=182,fourier_order=5)\n",
    "m.add_country_holidays(country_name='US')\n",
    "m.fit(dfph)\n",
    "future = m.make_future_dataframe(periods=182)\n",
    "forecast = m.predict(future)\n",
    "fig1 = m.plot(forecast)"
   ]
  },
  {
   "cell_type": "code",
   "execution_count": null,
   "id": "120ce574",
   "metadata": {},
   "outputs": [],
   "source": [
    "forecast"
   ]
  },
  {
   "cell_type": "code",
   "execution_count": null,
   "id": "707f3a86",
   "metadata": {},
   "outputs": [],
   "source": [
    "len(forecast.iloc[-100:]['yhat'].values)"
   ]
  },
  {
   "cell_type": "code",
   "execution_count": null,
   "id": "986580e9",
   "metadata": {},
   "outputs": [],
   "source": [
    "pred_period = 5\n",
    "pred = forecast.iloc[-1*pred_period:]['yhat'].values"
   ]
  },
  {
   "cell_type": "code",
   "execution_count": null,
   "id": "fded6696",
   "metadata": {},
   "outputs": [],
   "source": [
    "pred[0]"
   ]
  },
  {
   "cell_type": "code",
   "execution_count": null,
   "id": "5de9d42b",
   "metadata": {},
   "outputs": [],
   "source": []
  }
 ],
 "metadata": {
  "kernelspec": {
   "display_name": "Python 3 (ipykernel)",
   "language": "python",
   "name": "python3"
  },
  "language_info": {
   "codemirror_mode": {
    "name": "ipython",
    "version": 3
   },
   "file_extension": ".py",
   "mimetype": "text/x-python",
   "name": "python",
   "nbconvert_exporter": "python",
   "pygments_lexer": "ipython3",
   "version": "3.8.0"
  }
 },
 "nbformat": 4,
 "nbformat_minor": 5
}
